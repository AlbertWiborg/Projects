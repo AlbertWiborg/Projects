{
 "cells": [
  {
   "cell_type": "code",
   "execution_count": null,
   "id": "b53a26e7-6400-494a-aae1-4af2314a1158",
   "metadata": {},
   "outputs": [],
   "source": [
    "#Not finished"
   ]
  },
  {
   "cell_type": "code",
   "execution_count": 20,
   "id": "964ebf0c-fddb-4702-b7b1-29194298e8b5",
   "metadata": {},
   "outputs": [],
   "source": [
    "import requests\n",
    "\n",
    "def get_balance(ticker):\n",
    "    #Objective: Retrieves balance sheets of company with given ticker\n",
    "    ticker = ticker.upper()\n",
    "    url = f\"https://macrotrends-finance.p.rapidapi.com/balance-statement/{ticker}\"\n",
    "    headers = {\n",
    "    \"X-RapidAPI-Key\": \"780e20d3e2msh98236d71e89956ap1905f3jsn4d95727a346c\",\n",
    "    \"X-RapidAPI-Host\": \"macrotrends-finance.p.rapidapi.com\"\n",
    "    }\n",
    "    return requests.request(\"GET\", url, headers=headers, params=querystring).json()\n",
    "    \n",
    "def get_cash(ticker):\n",
    "    #Objective: Retrieves cash flow statements of company with given ticker\n",
    "    ticker = ticker.upper()\n",
    "    url = f\"https://macrotrends-finance.p.rapidapi.com/cash-flow-statement/{ticker}\"\n",
    "    headers = {\n",
    "    \"X-RapidAPI-Key\": \"780e20d3e2msh98236d71e89956ap1905f3jsn4d95727a346c\",\n",
    "    \"X-RapidAPI-Host\": \"macrotrends-finance.p.rapidapi.com\"\n",
    "    }\n",
    "    return requests.request(\"GET\", url, headers=headers, params=querystring).json()\n",
    "\n",
    "def get_income(ticker):\n",
    "    #Objective: Retrieves income statement of company with given ticker\n",
    "    ticker = ticker.upper()\n",
    "    url = f\"https://macrotrends-finance.p.rapidapi.com/income-statement/{ticker}\"\n",
    "    headers = {\n",
    "    \"X-RapidAPI-Key\": \"780e20d3e2msh98236d71e89956ap1905f3jsn4d95727a346c\",\n",
    "    \"X-RapidAPI-Host\": \"macrotrends-finance.p.rapidapi.com\"\n",
    "    }\n",
    "    return requests.request(\"GET\", url, headers=headers, params=querystring).json()\n",
    "\n",
    "def get_items(statement):\n",
    "    #Objective: Gets all lines in financial statement\n",
    "    items = []\n",
    "    for line in statement:\n",
    "        items.append(line)\n",
    "    return items"
   ]
  },
  {
   "cell_type": "code",
   "execution_count": 46,
   "id": "213e4099-89e1-4401-9c8f-9ec388558f2d",
   "metadata": {},
   "outputs": [],
   "source": [
    "ticker = 'amzn'\n",
    "#AMZN_balance = get_balance('amzn')\n",
    "#AMZN_income = get_income(ticker)\n",
    "#AMZN_cash = get_cash(ticker)\n",
    "AMZN_items_balance = get_items(AMZN_balance)\n",
    "AMZN_items_cash = get_items(AMZN_cash)\n",
    "AMZN_items_income = get_items(AMZN_income)\n",
    "date = '2021-12-31'\n",
    "prev_date = '2020-12-31'"
   ]
  },
  {
   "cell_type": "code",
   "execution_count": null,
   "id": "6e7d7895-8025-4ea7-802f-a8a610f56af4",
   "metadata": {},
   "outputs": [],
   "source": [
    "#Method 1:\n",
    "#Free cash flow = Operating Cash Flow - Capital Expenditures\n",
    "\n",
    "#Method 2:\n",
    "#Free cash flow = sales revenue - (operating costs + taxes) - required investments in operating capital\n",
    "\n",
    "#Method 3:\n",
    "#Free cash flow = net operating profit after taxes - net investment in operating capital"
   ]
  },
  {
   "cell_type": "code",
   "execution_count": 44,
   "id": "64f0813a-64d9-4bcd-82db-e033be60b5d1",
   "metadata": {},
   "outputs": [
    {
     "data": {
      "text/plain": [
       "67427000000.0"
      ]
     },
     "execution_count": 44,
     "metadata": {},
     "output_type": "execute_result"
    }
   ],
   "source": [
    "depreciation = AMZN_cash['Total Depreciation And Amortization - Cash Flow'][date]\n",
    "increase_ppe = AMZN_cash['Net Change In Property, Plant, And Equipment'][date]\n",
    "operating_cashflow = AMZN_cash['Cash Flow From Operating Activities'][date]\n",
    "\n",
    "cashflow_m1 = operating_cashflow - (increase_ppe + depreciation)\n",
    "cashflow_m1"
   ]
  },
  {
   "cell_type": "code",
   "execution_count": 51,
   "id": "bf2c266f-ab52-44c4-b374-98e545244ba9",
   "metadata": {},
   "outputs": [
    {
     "data": {
      "text/plain": [
       "7122000000.0"
      ]
     },
     "execution_count": 51,
     "metadata": {},
     "output_type": "execute_result"
    }
   ],
   "source": [
    "revenue = AMZN_income['Revenue'][date]\n",
    "operating_expenses = AMZN_income['Operating Expenses'][date]\n",
    "taxes = AMZN_income['Income Taxes'][date]\n",
    "\n",
    "current_assets = AMZN_balance['Total Assets'][date] - AMZN_balance['Total Long-Term Assets'][date]\n",
    "current_assets_prev = AMZN_balance['Total Assets'][prev_date] - AMZN_balance['Total Long-Term Assets'][prev_date]\n",
    "current_liabilities = AMZN_balance['Total Liabilities'][date] - AMZN_balance['Total Long Term Liabilities'][date]\n",
    "current_liabilities_prev = AMZN_balance['Total Liabilities'][prev_date] - AMZN_balance['Total Long Term Liabilities'][prev_date]\n",
    "\n",
    "net_working_capital = current_assets - current_liabilities\n",
    "net_working_capital_prev = current_assets_prev - current_liabilities_prev\n",
    "net_working_capital_change = net_working_capital - net_working_capital_prev\n",
    "\n",
    "cashflow_m2 = revenue - operating_expenses - taxes - net_working_capital_change\n",
    "cashflow_m2"
   ]
  },
  {
   "cell_type": "code",
   "execution_count": 61,
   "id": "bb6509e7-de79-4bde-9ea4-f1cb24ca3c5c",
   "metadata": {},
   "outputs": [
    {
     "data": {
      "text/plain": [
       "12966000000.0"
      ]
     },
     "execution_count": 61,
     "metadata": {},
     "output_type": "execute_result"
    }
   ],
   "source": [
    "operating_income = AMZN_income['Operating Income'][date]\n",
    "operating_income\n",
    "net_working_capital_change"
   ]
  },
  {
   "cell_type": "code",
   "execution_count": 59,
   "id": "8421a70e-9e50-4424-82e9-0e7656eb5297",
   "metadata": {},
   "outputs": [
    {
     "data": {
      "text/plain": [
       "['Revenue',\n",
       " 'Cost Of Goods Sold',\n",
       " 'Gross Profit',\n",
       " 'Research And Development Expenses',\n",
       " 'SG&A Expenses',\n",
       " 'Other Operating Income Or Expenses',\n",
       " 'Operating Expenses',\n",
       " 'Operating Income',\n",
       " 'Total Non-Operating Income/Expense',\n",
       " 'Pre-Tax Income',\n",
       " 'Income Taxes',\n",
       " 'Income After Taxes',\n",
       " 'Other Income',\n",
       " 'Income From Continuous Operations',\n",
       " 'Income From Discontinued Operations',\n",
       " 'Net Income',\n",
       " 'EBITDA',\n",
       " 'EBIT',\n",
       " 'Basic Shares Outstanding',\n",
       " 'Shares Outstanding',\n",
       " 'Basic EPS',\n",
       " 'EPS - Earnings Per Share']"
      ]
     },
     "execution_count": 59,
     "metadata": {},
     "output_type": "execute_result"
    }
   ],
   "source": [
    "AMZN_items_income"
   ]
  },
  {
   "cell_type": "code",
   "execution_count": null,
   "id": "a8b9bd3d-d178-451e-b274-a64b2b356e80",
   "metadata": {},
   "outputs": [],
   "source": []
  }
 ],
 "metadata": {
  "kernelspec": {
   "display_name": "Python 3 (ipykernel)",
   "language": "python",
   "name": "python3"
  },
  "language_info": {
   "codemirror_mode": {
    "name": "ipython",
    "version": 3
   },
   "file_extension": ".py",
   "mimetype": "text/x-python",
   "name": "python",
   "nbconvert_exporter": "python",
   "pygments_lexer": "ipython3",
   "version": "3.9.7"
  }
 },
 "nbformat": 4,
 "nbformat_minor": 5
}
