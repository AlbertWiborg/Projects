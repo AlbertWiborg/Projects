{
 "cells": [
  {
   "cell_type": "code",
   "execution_count": 26,
   "id": "f21975af-e6c3-44de-89e1-d07bc9475ea4",
   "metadata": {},
   "outputs": [],
   "source": [
    "import random\n",
    "count1 = 0\n",
    "count2 = 0\n",
    "count3 = 0\n",
    "count4 = 0\n",
    "count5 = 0\n",
    "count6 = 0\n",
    "\n",
    "for i in range(600000):\n",
    "    x = random.randint(1,6)\n",
    "    if x == 1:\n",
    "        count1 += 1\n",
    "    elif x == 2:\n",
    "        count2 += 1\n",
    "    elif x == 3:\n",
    "        count3 += 1\n",
    "    elif x == 4:\n",
    "        count4 += 1\n",
    "    elif x == 5:\n",
    "        count5 += 1\n",
    "    elif x == 6:\n",
    "        count6 += 1\n",
    "    else:\n",
    "        print(x)"
   ]
  },
  {
   "cell_type": "code",
   "execution_count": 27,
   "id": "5ac089e5-0c2e-4806-adc5-ba3cf60d0142",
   "metadata": {},
   "outputs": [
    {
     "name": "stdout",
     "output_type": "stream",
     "text": [
      "99908 100450 99964 100328 99639 99711\n"
     ]
    }
   ],
   "source": [
    "print(count1,count2,count3,count4,count5,count6)"
   ]
  },
  {
   "cell_type": "code",
   "execution_count": null,
   "id": "25d5628c-a805-4cc7-9078-02572887bbc7",
   "metadata": {},
   "outputs": [],
   "source": []
  },
  {
   "cell_type": "code",
   "execution_count": 87,
   "id": "2a188d4e-c491-485f-836e-229c8c480144",
   "metadata": {},
   "outputs": [
    {
     "name": "stdout",
     "output_type": "stream",
     "text": [
      "5198 4802\n",
      "0.5198\n"
     ]
    }
   ],
   "source": [
    "def battle(attacker, defender):\n",
    "    attack = attacker\n",
    "    defend = defender\n",
    "    \n",
    "    while attack > 0 and defend > 0:\n",
    "        attack_s, defend_s = [], []\n",
    "        if attack > 0:\n",
    "            attack_s.append(random.randint(1,6))\n",
    "        if attack > 1:\n",
    "            attack_s.append(random.randint(1,6))\n",
    "        if attack > 2:\n",
    "            attack_s.append(random.randint(1,6))\n",
    "        if defend > 0:\n",
    "            defend_s.append(random.randint(1,6))\n",
    "        if defend > 1:\n",
    "            defend_s.append(random.randint(1,6))\n",
    "        attack_s.sort()\n",
    "        defend_s.sort()\n",
    "\n",
    "        if attack_s[-1] > defend_s[-1]:\n",
    "            defend -= 1\n",
    "        else:\n",
    "            attack -= 1\n",
    "        if len(attack_s) > 1 and len(defend_s) > 1:\n",
    "            if attack_s[-2] > defend_s[-2]:\n",
    "                defend -= 1\n",
    "            else:\n",
    "                attack -= 1\n",
    "    return attack, defend\n",
    "\n",
    "win = 0\n",
    "loss = 0\n",
    "simulations = 10**4\n",
    "attacker = 25\n",
    "defender = 28\n",
    "\n",
    "for i in range(simulations):\n",
    "    result = battle(attacker,defender)\n",
    "    if result[0] > result[1]:\n",
    "        win += 1\n",
    "    else:\n",
    "        loss += 1\n",
    "print(win,loss)\n",
    "print(win/simulations)"
   ]
  },
  {
   "cell_type": "code",
   "execution_count": null,
   "id": "ab6a1dbb-ba34-4e91-84ef-3b4a23abcb7e",
   "metadata": {},
   "outputs": [],
   "source": []
  },
  {
   "cell_type": "code",
   "execution_count": null,
   "id": "1f765d78-2082-4408-9ead-cb263ee39a1c",
   "metadata": {},
   "outputs": [],
   "source": []
  },
  {
   "cell_type": "code",
   "execution_count": null,
   "id": "2c032e35-58d0-4d13-81c7-fa0c1c90e2b7",
   "metadata": {},
   "outputs": [],
   "source": []
  }
 ],
 "metadata": {
  "kernelspec": {
   "display_name": "Python 3 (ipykernel)",
   "language": "python",
   "name": "python3"
  },
  "language_info": {
   "codemirror_mode": {
    "name": "ipython",
    "version": 3
   },
   "file_extension": ".py",
   "mimetype": "text/x-python",
   "name": "python",
   "nbconvert_exporter": "python",
   "pygments_lexer": "ipython3",
   "version": "3.9.12"
  }
 },
 "nbformat": 4,
 "nbformat_minor": 5
}
