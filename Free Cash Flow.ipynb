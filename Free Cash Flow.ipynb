{
 "cells": [
  {
   "cell_type": "code",
   "execution_count": 9,
   "id": "9e39e54b-761a-44bb-a700-eabeeed873f9",
   "metadata": {},
   "outputs": [],
   "source": [
    "import requests\n",
    "\n",
    "url = \"https://macrotrends-finance.p.rapidapi.com/balance-statement/AMZN\"\n",
    "url2 = \"https://macrotrends-finance.p.rapidapi.com/income-statement/AMZN\"\n",
    "url3 = \"https://macrotrends-finance.p.rapidapi.com/cash-flow-statement/AMZN\"\n",
    "\n",
    "querystring = {\"freq\":\"A\"}\n",
    "\n",
    "headers = {\n",
    "\t\"X-RapidAPI-Key\": \"5b317ae72cmsh3983ec24c1f4d71p17c301jsna4df0f999c1f\",\n",
    "\t\"X-RapidAPI-Host\": \"macrotrends-finance.p.rapidapi.com\"\n",
    "}\n",
    "\n",
    "response = requests.request(\"GET\", url, headers=headers, params=querystring).json()\n",
    "response2 = requests.request(\"GET\", url2, headers=headers, params=querystring).json()\n",
    "response3 = requests.request(\"GET\", url3, headers=headers, params=querystring).json()\n",
    "\n",
    "\n",
    "AMZN_bal = response\n",
    "AMZN_inc = response2\n",
    "AMZN_cash = response3\n",
    "\n",
    "AMZN_items_bal, AMZN_items_inc, AMZN_items_cash = [], [], []\n",
    "for item in AMZN_bal:\n",
    "    AMZN_items_bal.append(item)\n",
    "for item in AMZN_inc:\n",
    "    AMZN_items_inc.append(item)\n",
    "for item in AMZN_cash:\n",
    "    AMZN_items_cash.append(item)"
   ]
  },
  {
   "cell_type": "code",
   "execution_count": 22,
   "id": "b2a19c96-5328-41e4-a7cd-f7b46154d527",
   "metadata": {},
   "outputs": [
    {
     "data": {
      "text/plain": [
       "59293000000.0"
      ]
     },
     "execution_count": 22,
     "metadata": {},
     "output_type": "execute_result"
    }
   ],
   "source": [
    "date = \"2021-12-31\"\n",
    "prevdate = \"2020-12-31\"\n",
    "\n",
    "#M1 = 'Cash Flow From Operating Activities' + Change NWC\n",
    "#M2 = EBITDA - Tax + (D+A) + Change NWC\n",
    "\n",
    "NWC = AMZN_bal['Total Assets'][date] - AMZN_bal['Total Long-Term Assets'][date] - AMZN_bal['Total Current Liabilities'][date]\n",
    "NWC_prev = AMZN_bal['Total Assets'][prevdate] - AMZN_bal['Total Long-Term Assets'][prevdate] - AMZN_bal['Total Current Liabilities'][prevdate]\n",
    "deltaNWC = NWC - NWC_prev\n",
    "\n",
    "FCF_M1 = AMZN_cash['Cash Flow From Operating Activities'][date] + deltaNWC\n",
    "FCF_M1"
   ]
  },
  {
   "cell_type": "code",
   "execution_count": 29,
   "id": "becc968c-0de7-4e5f-bb4b-63b507fdf8b9",
   "metadata": {},
   "outputs": [
    {
     "data": {
      "text/plain": [
       "321195000000.0"
      ]
     },
     "execution_count": 29,
     "metadata": {},
     "output_type": "execute_result"
    }
   ],
   "source": [
    "AMZN_bal['Total Assets'][prevdate]"
   ]
  },
  {
   "cell_type": "code",
   "execution_count": 26,
   "id": "3437e1de-5ace-48db-950d-b23707f06e44",
   "metadata": {},
   "outputs": [
    {
     "data": {
      "text/plain": [
       "12966000000.0"
      ]
     },
     "execution_count": 26,
     "metadata": {},
     "output_type": "execute_result"
    }
   ],
   "source": [
    "deltaNWC"
   ]
  },
  {
   "cell_type": "code",
   "execution_count": 25,
   "id": "05061600-e520-4e7a-9873-251c7beefb0e",
   "metadata": {},
   "outputs": [
    {
     "name": "stdout",
     "output_type": "stream",
     "text": [
      "Revenue: 469822000000.0\n",
      "Cost Of Goods Sold: 272344000000.0\n",
      "Gross Profit: 197478000000.0\n",
      "Research And Development Expenses: 56052000000.0\n",
      "SG&A Expenses: 116485000000.0\n",
      "Other Operating Income Or Expenses: -62000000.0\n",
      "Operating Expenses: 444943000000.0\n",
      "Operating Income: 24879000000.0\n",
      "Total Non-Operating Income/Expense: 13272000000.0\n",
      "Pre-Tax Income: 38151000000.0\n",
      "Income Taxes: 4791000000.0\n",
      "Income After Taxes: 33360000000.0\n",
      "Other Income: \n",
      "Income From Continuous Operations: 33364000000.0\n",
      "Income From Discontinued Operations: \n",
      "Net Income: 33364000000.0\n",
      "EBITDA: 59175000000.0\n",
      "EBIT: 24879000000.0\n",
      "Basic Shares Outstanding: 10120000000.0\n",
      "Shares Outstanding: 10300000000.0\n",
      "Basic EPS: 3298000.0\n",
      "EPS - Earnings Per Share: 3240500.0\n"
     ]
    }
   ],
   "source": [
    "for item in AMZN_inc:\n",
    "    print(f'{item}: {AMZN_inc[item][date]}')"
   ]
  },
  {
   "cell_type": "code",
   "execution_count": 7,
   "id": "5385265e-c358-49ec-ad42-89690aa2c734",
   "metadata": {},
   "outputs": [
    {
     "data": {
      "text/plain": [
       "['Revenue',\n",
       " 'Cost Of Goods Sold',\n",
       " 'Gross Profit',\n",
       " 'Research And Development Expenses',\n",
       " 'SG&A Expenses',\n",
       " 'Other Operating Income Or Expenses',\n",
       " 'Operating Expenses',\n",
       " 'Operating Income',\n",
       " 'Total Non-Operating Income/Expense',\n",
       " 'Pre-Tax Income',\n",
       " 'Income Taxes',\n",
       " 'Income After Taxes',\n",
       " 'Other Income',\n",
       " 'Income From Continuous Operations',\n",
       " 'Income From Discontinued Operations',\n",
       " 'Net Income',\n",
       " 'EBITDA',\n",
       " 'EBIT',\n",
       " 'Basic Shares Outstanding',\n",
       " 'Shares Outstanding',\n",
       " 'Basic EPS',\n",
       " 'EPS - Earnings Per Share']"
      ]
     },
     "execution_count": 7,
     "metadata": {},
     "output_type": "execute_result"
    }
   ],
   "source": [
    "AMZN_items_inc"
   ]
  },
  {
   "cell_type": "code",
   "execution_count": 12,
   "id": "0bc85047-5847-47c9-b3c6-fd622ed8b855",
   "metadata": {},
   "outputs": [
    {
     "data": {
      "text/plain": [
       "['Cash On Hand',\n",
       " 'Receivables',\n",
       " 'Inventory',\n",
       " 'Pre-Paid Expenses',\n",
       " 'Other Current Assets',\n",
       " 'Total Current Assets',\n",
       " 'Property, Plant, And Equipment',\n",
       " 'Long-Term Investments',\n",
       " 'Goodwill And Intangible Assets',\n",
       " 'Other Long-Term Assets',\n",
       " 'Total Long-Term Assets',\n",
       " 'Total Assets',\n",
       " 'Total Current Liabilities',\n",
       " 'Long Term Debt',\n",
       " 'Other Non-Current Liabilities',\n",
       " 'Total Long Term Liabilities',\n",
       " 'Total Liabilities',\n",
       " 'Common Stock Net',\n",
       " 'Retained Earnings (Accumulated Deficit)',\n",
       " 'Comprehensive Income',\n",
       " 'Other Share Holders Equity',\n",
       " 'Share Holder Equity',\n",
       " 'Total Liabilities And Share Holders Equity']"
      ]
     },
     "execution_count": 12,
     "metadata": {},
     "output_type": "execute_result"
    }
   ],
   "source": [
    "AMZN_items_bal"
   ]
  },
  {
   "cell_type": "code",
   "execution_count": 27,
   "id": "7fa82038-5fb7-4f38-a4c7-00764f7374ff",
   "metadata": {},
   "outputs": [
    {
     "data": {
      "text/plain": [
       "['Net Income/Loss',\n",
       " 'Total Depreciation And Amortization - Cash Flow',\n",
       " 'Other Non-Cash Items',\n",
       " 'Total Non-Cash Items',\n",
       " 'Change In Accounts Receivable',\n",
       " 'Change In Inventories',\n",
       " 'Change In Accounts Payable',\n",
       " 'Change In Assets/Liabilities',\n",
       " 'Total Change In Assets/Liabilities',\n",
       " 'Cash Flow From Operating Activities',\n",
       " 'Net Change In Property, Plant, And Equipment',\n",
       " 'Net Change In Intangible Assets',\n",
       " 'Net Acquisitions/Divestitures',\n",
       " 'Net Change In Short-term Investments',\n",
       " 'Net Change In Long-Term Investments',\n",
       " 'Net Change In Investments - Total',\n",
       " 'Investing Activities - Other',\n",
       " 'Cash Flow From Investing Activities',\n",
       " 'Net Long-Term Debt',\n",
       " 'Net Current Debt',\n",
       " 'Debt Issuance/Retirement Net - Total',\n",
       " 'Net Common Equity Issued/Repurchased',\n",
       " 'Net Total Equity Issued/Repurchased',\n",
       " 'Total Common And Preferred Stock Dividends Paid',\n",
       " 'Financial Activities - Other',\n",
       " 'Cash Flow From Financial Activities',\n",
       " 'Net Cash Flow',\n",
       " 'Stock-Based Compensation',\n",
       " 'Common Stock Dividends Paid']"
      ]
     },
     "execution_count": 27,
     "metadata": {},
     "output_type": "execute_result"
    }
   ],
   "source": [
    "AMZN_items_cash"
   ]
  },
  {
   "cell_type": "code",
   "execution_count": null,
   "id": "82241ce0-218f-4174-a8fe-74a8514f53ec",
   "metadata": {},
   "outputs": [],
   "source": []
  }
 ],
 "metadata": {
  "kernelspec": {
   "display_name": "Python 3 (ipykernel)",
   "language": "python",
   "name": "python3"
  },
  "language_info": {
   "codemirror_mode": {
    "name": "ipython",
    "version": 3
   },
   "file_extension": ".py",
   "mimetype": "text/x-python",
   "name": "python",
   "nbconvert_exporter": "python",
   "pygments_lexer": "ipython3",
   "version": "3.9.12"
  }
 },
 "nbformat": 4,
 "nbformat_minor": 5
}
