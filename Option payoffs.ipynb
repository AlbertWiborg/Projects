{
 "cells": [
  {
   "cell_type": "code",
   "execution_count": 1,
   "id": "038d0815-89cb-40db-9e9a-1b10af0cf894",
   "metadata": {},
   "outputs": [],
   "source": [
    "#Implement holding underlying assets in payoff diagram and dict\n",
    "\n",
    "import matplotlib.pyplot as plt\n",
    "\n",
    "def profit_options(strike, underlying_price, premium, contract_type = 'call', position = 'long'):\n",
    "    #Objective: Returns profit of an option with variable parameters: strike price, stock price, premium, contract_type, direction (position)\n",
    "    \n",
    "    default_contract_type = 'call'\n",
    "    alternative_contract_type = 'put'\n",
    "    default_position = 'long'\n",
    "    alternative_position = 'short'\n",
    "    \n",
    "    if contract_type == alternative_contract_type: #put\n",
    "        if position == default_position:\n",
    "            return 100*max(strike - underlying_price, 0) - 100*premium\n",
    "        elif position == alternative_position:\n",
    "            return -100*max(strike - underlying_price, 0) + 100*premium\n",
    "        else:\n",
    "            return('Error: Position value not \\'long\\' or \\'short\\'')\n",
    "    \n",
    "    elif contract_type == default_contract_type: #call\n",
    "        if position == default_position:\n",
    "            return 100*max(underlying_price - strike, 0) - 100*premium\n",
    "        elif position == alternative_position:\n",
    "            return -100*max(underlying_price - strike, 0) + 100*premium\n",
    "        else:\n",
    "            return('Error: Position value not \\'long\\' or \\'short\\'')\n",
    "    \n",
    "    else:\n",
    "        return('Error: Contract Type not \\'call\\' or \\'put\\'')\n",
    "\n",
    "def profit_stocks(buy_price, list_stock_prices, amount):\n",
    "    #Objective: Returns payoffs from owning a specified amount of stocks bought at a certain price at given stock prices \n",
    "    payoffs = {}\n",
    "    \n",
    "    for stock_price in list_stock_prices:\n",
    "        payoffs[stock_price] = (stock_price - buy_price)*amount\n",
    "    \n",
    "    return payoffs\n",
    "    \n",
    "def profit_option_portfolio(list_stock_prices, dict_options):\n",
    "    #Objective: Returns a dict of payoffs for an option portfolio (dict_options) at given stock prices (list_stock_prices)\n",
    "\n",
    "    payoffs = {} #Dict for storing stock prices and payoffs from portfolio\n",
    "    ypoints = [] #List for storing payoffs from portfolio\n",
    "    \n",
    "    for stock_price in list_stock_prices:\n",
    "        total_profit = 0\n",
    "        \n",
    "        for option in dict_options:\n",
    "            path = dict_options[option]\n",
    "            total_profit += profit_options(path[0], stock_price, path[1], path[2], path[3])\n",
    "        payoffs[stock_price] = round(total_profit, 2) #Rounds total_profit to 2 decimals\n",
    "        ypoints.append(round(total_profit, 2))\n",
    "    \n",
    "    plt.plot(list_stock_prices, ypoints)\n",
    "    plt.title(\"Option Portfolio Payoff\")\n",
    "    plt.axhline(y=0, color = 'black', linestyle = '--')\n",
    "    plt.fill_between(list_stock_prices, ypoints, where=[0<ypoint for ypoint in ypoints], facecolor='green', alpha = .4, interpolate = True) #With list comprehension in 'where'\n",
    "    plt.fill_between(list_stock_prices, ypoints, where=[0>ypoint for ypoint in ypoints], facecolor='red', alpha = .5, interpolate = True)\n",
    "    #plt.fill_between(list_stock_prices, ypoints, where=np.array(ypoints)>0, facecolor='green', alpha = .2, interpolate = True) #Without list comprehension in 'where'\n",
    "    \n",
    "    return payoffs\n",
    "\n",
    "def total_cost_portfolio(option_portfolio, stock_amount, stock_buy_price):\n",
    "    #Objective: Calculate total cost of an option and stock portfolio (cost of buying/selling options + cost of buying/selling stocks)\n",
    "    total_cost = 0\n",
    "    total_cost += stock_amount*stock_buy_price\n",
    "\n",
    "    for option in option_portfolio:\n",
    "        path = option_portfolio[option]\n",
    "        coefficient = -1 #If an option is sold, premium is collected, and not paid\n",
    "        if path[3] == \"short\": #So if option is sold and not bought\n",
    "            coefficient = 1 #Coefficient is set to -1\n",
    "        total_cost += coefficient*path[1]*100\n",
    "    return total_cost\n",
    "\n",
    "def consolidate_portfolio(list_stock_prices, stock_result, option_result, total_cost):\n",
    "    #Objective: Add values of profits from option portfolio and stock portfolio for each key in dictionaries\n",
    "    #Returns: dict of consolidated profits\n",
    "    profit = {}\n",
    "\n",
    "    for item in option_result:\n",
    "        profit[item] = option_result[item] + stock_result[item]\n",
    "    \n",
    "    ypoints = list(profit.values())\n",
    "    \n",
    "    plt.plot(list_stock_prices, ypoints)\n",
    "    plt.title(\"Consolidated Portfolio Payoff\")\n",
    "    plt.axhline(y=0, color = 'black', linestyle = '--')\n",
    "    plt.fill_between(list_stock_prices, ypoints, where=[0<ypoint for ypoint in ypoints], facecolor='green', alpha = .4, interpolate = True) #With list comprehension in 'where'\n",
    "    plt.fill_between(list_stock_prices, ypoints, where=[0>ypoint for ypoint in ypoints], facecolor='red', alpha = .5, interpolate = True)\n",
    "    \n",
    "    print(f'At a cost of {total_cost}, a portfolio consisting of {stock_amount} stocks bought at {stock_buy_price} per share and the following option(s):')\n",
    "    for option in option_portfolio:\n",
    "        path = option_portfolio[option]\n",
    "        print(f'{path[3]} 1 {path[0]} {path[2]} at {path[1]}')\n",
    "    print(\"has the following payoff diagram:\")\n",
    "    \n",
    "    return profit"
   ]
  },
  {
   "cell_type": "code",
   "execution_count": 4,
   "id": "ee9770a3-fa49-4282-9d9e-53683124c6f1",
   "metadata": {},
   "outputs": [
    {
     "data": {
      "text/plain": [
       "{24: -174.0, 26: -174.0, 28: -174.0, 30: 26.0, 32: 226.0, 34: 326.0, 36: 326.0}"
      ]
     },
     "execution_count": 4,
     "metadata": {},
     "output_type": "execute_result"
    },
    {
     "data": {
      "image/png": "[encoded data removed]",
      "text/plain": [
       "<Figure size 432x288 with 1 Axes>"
      ]
     },
     "metadata": {
      "needs_background": "light"
     },
     "output_type": "display_data"
    }
   ],
   "source": [
    "#Types of option strategies\n",
    "#Iron condor\n",
    "iron_condor = {1: [95, 0.7, 'put', 'long'],\n",
    "          2: [100, 2.1, 'put', 'short'],\n",
    "          3: [105, 2.35, 'call', 'short'],\n",
    "          4: [110, 0.95, 'call', 'long']}\n",
    "#Reverse iron_condor\n",
    "iron_condor_r = {1: [95, 0.7, 'put', 'short'],\n",
    "          2: [100, 2.1, 'put', 'long'],\n",
    "          3: [105, 2.35, 'call', 'long'],\n",
    "          4: [110, 0.95, 'call', 'short']}\n",
    "#Long straddle\n",
    "straddle = {1: [100, 2, 'call', 'long'],\n",
    "            2: [100, 2, 'put', 'long']}\n",
    "#Short straddle\n",
    "straddle_short = {1: [100, 2, 'call', 'short'],\n",
    "            2: [100, 2, 'put', 'short']}\n",
    "#Bull spread\n",
    "spread_bull = {1: [28, 3.25, 'call', 'long'],\n",
    "               2: [33, 1.51, 'call', 'short']}\n",
    "#Credit spread\n",
    "spread_credit = {1: [95, 0.5, 'put', 'long'],\n",
    "               2: [100, 1.5, 'put', 'short']}\n",
    "#???\n",
    "questionmark = {1: [26, 4.25, 'call', 'long'],\n",
    "          2: [28, 3.25, 'call', 'short'],\n",
    "          3: [31, 3.7, 'put', 'short'],\n",
    "          4: [33, 6.15, 'put', 'long']}\n",
    "\n",
    "#INPUT EXAMPLE\n",
    "#name = {1: [strike, premium, call/put, long/short],\n",
    "        #2: [strike, premium, call/put, long/short],\n",
    "        #...\n",
    "        #N: [strike, premium, call/put, long/short]}\n",
    "\n",
    "stock_prices = [24, 26, 28, 30, 32, 34, 36]\n",
    "stock_amount = 0\n",
    "stock_buy_price = 0\n",
    "option_portfolio = spread_bull\n",
    "\n",
    "stock_result = profit_stocks(stock_buy_price, stock_prices, stock_amount)\n",
    "option_result = profit_option_portfolio(stock_prices, option_portfolio)\n",
    "option_result"
   ]
  },
  {
   "cell_type": "code",
   "execution_count": 5,
   "id": "707b2a85-15d9-41b8-87f7-79286016e021",
   "metadata": {},
   "outputs": [
    {
     "name": "stdout",
     "output_type": "stream",
     "text": [
      "At a cost of -174.0, a portfolio consisting of 0 stocks bought at 0 per share and the following option(s):\n",
      "long 1 28 call at 3.25\n",
      "short 1 33 call at 1.51\n",
      "has the following payoff diagram:\n"
     ]
    },
    {
     "data": {
      "image/png": "[encoded data removed]",
      "text/plain": [
       "<Figure size 432x288 with 1 Axes>"
      ]
     },
     "metadata": {
      "needs_background": "light"
     },
     "output_type": "display_data"
    }
   ],
   "source": [
    "total_cost = total_cost_portfolio(option_portfolio, stock_amount, stock_buy_price)\n",
    "consolidated_profits = consolidate_portfolio(stock_prices, stock_result, option_result, total_cost)"
   ]
  },
  {
   "cell_type": "code",
   "execution_count": null,
   "id": "1994a12b-6a67-4613-9b94-04c7664df1e8",
   "metadata": {},
   "outputs": [],
   "source": []
  },
  {
   "cell_type": "code",
   "execution_count": null,
   "id": "2d458870-20d6-433d-bd54-1e4404437181",
   "metadata": {},
   "outputs": [],
   "source": []
  },
  {
   "cell_type": "code",
   "execution_count": null,
   "id": "88b568c9-9e0a-4e28-a38b-d24eb798ac94",
   "metadata": {},
   "outputs": [],
   "source": []
  },
  {
   "cell_type": "code",
   "execution_count": null,
   "id": "c5715df3-e727-40a3-9ba6-e9d8fb124719",
   "metadata": {},
   "outputs": [],
   "source": []
  },
  {
   "cell_type": "code",
   "execution_count": null,
   "id": "91ace440-554b-4375-b6bf-96a4316c0239",
   "metadata": {},
   "outputs": [],
   "source": []
  },
  {
   "cell_type": "code",
   "execution_count": null,
   "id": "686f76bf-4080-433b-bc3f-f9a21475e4d0",
   "metadata": {},
   "outputs": [],
   "source": []
  },
  {
   "cell_type": "code",
   "execution_count": null,
   "id": "4d8b2d08-4ce9-4f36-b717-f4f7e18049bf",
   "metadata": {},
   "outputs": [],
   "source": []
  }
 ],
 "metadata": {
  "kernelspec": {
   "display_name": "Python 3 (ipykernel)",
   "language": "python",
   "name": "python3"
  },
  "language_info": {
   "codemirror_mode": {
    "name": "ipython",
    "version": 3
   },
   "file_extension": ".py",
   "mimetype": "text/x-python",
   "name": "python",
   "nbconvert_exporter": "python",
   "pygments_lexer": "ipython3",
   "version": "3.9.12"
  }
 },
 "nbformat": 4,
 "nbformat_minor": 5
}
