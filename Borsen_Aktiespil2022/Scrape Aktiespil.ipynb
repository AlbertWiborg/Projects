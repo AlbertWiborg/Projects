{
 "cells": [
  {
   "cell_type": "code",
   "execution_count": 6,
   "id": "fc764e54-6f42-4615-b3b6-496e871f064f",
   "metadata": {
    "tags": []
   },
   "outputs": [],
   "source": [
    "import requests\n",
    "import json\n",
    "from bs4 import BeautifulSoup\n",
    "import time\n",
    "import Norkon #2 dicts with stock info that we input to API\n",
    "\n",
    "#Both norkon urls are found by accessing the network pane manually on the webpage that loads the tradeable stocks\n",
    "#These are stored separately and loaded in. Results stored in result.txt"
   ]
  },
  {
   "cell_type": "code",
   "execution_count": null,
   "id": "46957ac0-27b4-48fc-88d4-a17dc6c07da5",
   "metadata": {
    "tags": []
   },
   "outputs": [],
   "source": [
    "#This code extracts all tradeable stocks in Børsen Aktiespil 2022, gets their \n",
    "#tickers and uses a Yahoo Finance API to extract useful information to determine volatile stocks"
   ]
  },
  {
   "cell_type": "code",
   "execution_count": 7,
   "id": "91587cee-1c5b-4dbd-880d-8a49468da742",
   "metadata": {
    "tags": []
   },
   "outputs": [],
   "source": [
    "list_traded_stocks = list(Norkon.stocks_eid.keys())\n",
    "stocks = Norkon.stocks\n",
    "\n",
    "consolidated = []\n",
    "eid_list = []\n",
    "\n",
    "for stock in stocks:\n",
    "    temp = []\n",
    "    path = stocks[stock]\n",
    "    if path['eid'] not in list_traded_stocks:\n",
    "        continue\n",
    "    eid_list.append(path['eid'])\n",
    "    temp.append(path['displayName'])\n",
    "    #temp.append(path['isin'])\n",
    "    cur = path['currency']\n",
    "    #DKK : CO\n",
    "    #NOK : OL\n",
    "    #SEK : ST\n",
    "    #EUR : HE\n",
    "    if cur == 'DKK':\n",
    "        temp.append(path['ticker']+\".CO\")\n",
    "    elif cur == 'SEK':\n",
    "        temp.append(path['ticker']+\".ST\")\n",
    "    elif cur == 'NOK':\n",
    "        temp.append(path['ticker']+\".OL\")\n",
    "    elif cur == 'EUR':\n",
    "        temp.append(path['ticker']+\".HE\")\n",
    "    else:\n",
    "        temp.append(path['ticker'])\n",
    "    consolidated.append(temp)\n"
   ]
  },
  {
   "cell_type": "code",
   "execution_count": 14,
   "id": "a60f4996-018d-42f6-83c2-eea786060b51",
   "metadata": {
    "tags": []
   },
   "outputs": [
    {
     "name": "stdout",
     "output_type": "stream",
     "text": [
      "['Scandinavian Tobacco Group', 'STG.CO']\n",
      "['H+H International', 'HH.CO']\n",
      "['Pandora', 'PNDORA.CO']\n",
      "['D/S Norden', 'DNORD.CO']\n",
      "['Alm. Brand', 'ALMB.CO']\n"
     ]
    }
   ],
   "source": [
    "for item in consolidated[0:5]:\n",
    "    print(item)"
   ]
  },
  {
   "cell_type": "code",
   "execution_count": null,
   "id": "7e7152c7-36fc-4ee9-b5a8-756f9149d3df",
   "metadata": {
    "tags": []
   },
   "outputs": [],
   "source": [
    "#API section. Took around 3 hours to run, due to API-Host being slow. Some errors, that we track.\n",
    "\n",
    "url = \"https://yahoo-finance97.p.rapidapi.com/stock-info\"\n",
    "\n",
    "headers = {\n",
    "\t\"content-type\": \"application/x-www-form-urlencoded\",\n",
    "\t\"X-RapidAPI-Key\": \"5b317ae72cmsh3983ec24c1f4d71p17c301jsna4df0f999c1f\",\n",
    "\t\"X-RapidAPI-Host\": \"yahoo-finance97.p.rapidapi.com\"\n",
    "}\n",
    "\n",
    "def get_info(ticker):\n",
    "    payload = f\"symbol={ticker}\"\n",
    "    res = {}\n",
    "    response = requests.request(\"POST\", url, data=payload, headers=headers).json()\n",
    "    res['ticker'] = ticker\n",
    "    if response['status'] != 200:\n",
    "        res['Error'] = response['status']\n",
    "        return res\n",
    "    response = response['data']\n",
    "    try:\n",
    "        res['52WeekChange'] = response['52WeekChange']\n",
    "        res['currentPrice'] = response['currentPrice']\n",
    "        res['dayHigh'] = response['dayHigh']\n",
    "        res['dayLow'] = response['dayLow']\n",
    "        res['debtToEquity'] = response['debtToEquity']\n",
    "        res['freeCashflow'] = response['freeCashflow']\n",
    "        res['marketCap'] = response['marketCap']\n",
    "        res['fiftyTwoWeekHigh'] = response['fiftyTwoWeekHigh']\n",
    "        res['fiftyTwoWeekLow'] = response['fiftyTwoWeekLow']\n",
    "        res['totalCash'] = response['totalCash']\n",
    "        res['totalDebt'] = response['totalDebt']\n",
    "        res['ebitda'] = response['ebitda']\n",
    "        res['heldPercentInsiders'] = response['heldPercentInsiders']\n",
    "        res['heldPercentInstitutions'] = response['heldPercentInstitutions']\n",
    "        res['grossMargins'] = response['grossMargins']\n",
    "        res['enterpriseValue'] = response['enterpriseValue']\n",
    "    except:\n",
    "        print(f'Error - {ticker}')\n",
    "    return res\n",
    "\n",
    "#result = []\n",
    "length = len(consolidated)\n",
    "\n",
    "for i in range(len(result), length):\n",
    "    result.append(get_info(consolidated[i][1]))\n",
    "    if i%10 == 0:\n",
    "        print(f\"Succesfully pulled {i+1} of {length}\")\n",
    "print(\"Finished\")"
   ]
  },
  {
   "cell_type": "code",
   "execution_count": null,
   "id": "90794e45-a6cc-45cf-94b7-42f885153bc7",
   "metadata": {
    "tags": []
   },
   "outputs": [],
   "source": [
    "#The following code is not finished."
   ]
  },
  {
   "cell_type": "code",
   "execution_count": 17,
   "id": "74cb3ab8-a3ba-4d2d-bc63-355a93886618",
   "metadata": {
    "tags": []
   },
   "outputs": [
    {
     "data": {
      "text/plain": [
       "[72, 80, 143, 147, 199, 309, 323, 627]"
      ]
     },
     "execution_count": 17,
     "metadata": {},
     "output_type": "execute_result"
    }
   ],
   "source": [
    "import result\n",
    "result = result.result\n",
    "\n",
    "low_mc_stocks = []\n",
    "\n",
    "for i, item in enumerate(result):\n",
    "    try:\n",
    "        if item['marketCap'] < 10**8:\n",
    "            low_mc_stocks.append(i)\n",
    "    except:\n",
    "        continue\n",
    "low_mc_stocks"
   ]
  },
  {
   "cell_type": "code",
   "execution_count": 18,
   "id": "358935f5-4ea5-47ba-976e-e1bae96d7a53",
   "metadata": {},
   "outputs": [
    {
     "name": "stdout",
     "output_type": "stream",
     "text": [
      "ORPHA.CO\n",
      "OTS.OL\n",
      "BOR.OL\n",
      "HYARD.OL\n",
      "ERRIA.CO\n",
      "ANOT.ST\n",
      "RIZZO-B.ST\n",
      "ATLA-DKK.CO\n"
     ]
    }
   ],
   "source": [
    "for item in low_mc_stocks:\n",
    "    print(result[item]['ticker'])"
   ]
  },
  {
   "cell_type": "code",
   "execution_count": null,
   "id": "a5ed8c67-0ccc-42f5-98e4-f8cd708e307c",
   "metadata": {
    "tags": []
   },
   "outputs": [],
   "source": []
  }
 ],
 "metadata": {
  "kernelspec": {
   "display_name": "Python 3 (ipykernel)",
   "language": "python",
   "name": "python3"
  },
  "language_info": {
   "codemirror_mode": {
    "name": "ipython",
    "version": 3
   },
   "file_extension": ".py",
   "mimetype": "text/x-python",
   "name": "python",
   "nbconvert_exporter": "python",
   "pygments_lexer": "ipython3",
   "version": "3.9.7"
  }
 },
 "nbformat": 4,
 "nbformat_minor": 5
}
